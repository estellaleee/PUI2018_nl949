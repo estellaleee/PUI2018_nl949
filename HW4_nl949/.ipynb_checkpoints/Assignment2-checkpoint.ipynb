{
 "cells": [
  {
   "cell_type": "code",
   "execution_count": 1,
   "metadata": {},
   "outputs": [
    {
     "name": "stdout",
     "output_type": "stream",
     "text": [
      "Populating the interactive namespace from numpy and matplotlib\n"
     ]
    }
   ],
   "source": [
    "from __future__ import print_function, division\n",
    "import pylab as pl\n",
    "import pandas as pd\n",
    "import numpy as np\n",
    "import os\n",
    "import json\n",
    "%pylab inline"
   ]
  },
  {
   "cell_type": "code",
   "execution_count": null,
   "metadata": {
    "scrolled": true
   },
   "outputs": [],
   "source": [
    "## Downloading trip data and unzipping it\n",
    "!curl -O https://s3.amazonaws.com/tripdata/201809-citibike-tripdata.csv.zip\n",
    "!unzip 201809-citibike-tripdata.csv.zip -d $PUIDATA/"
   ]
  },
  {
   "cell_type": "markdown",
   "metadata": {},
   "source": [
    "# Idea:\n",
    "## Women take proportionally fewer trips with Citibike on weekend nights (Friday and Saturday after 8pm) than men do. \n",
    "\n",
    "# Null Hypothesis:\n",
    "## Men take, proportionally, the same or more rides during weekdays and daytime on weekends than women. \n",
    "\n",
    "# _$H_0$_ : $\\frac{W_{\\mathrm{weekend\\ night\\ rides}}}{W_{\\mathrm{total\\ weekly\\ rides}}} <= \\frac{M_{\\mathrm{weekend\\ night\\ rides}}}{M_{\\mathrm{total\\ weekly\\ rides}}}$\n",
    "# _$H_1$_ : $\\frac{W_{\\mathrm{weekend\\ night\\ rides}}}{W_{\\mathrm{total\\ weekly\\ rides}}} > \\frac{M_{\\mathrm{weekend\\ night\\ rides}}}{M_{\\mathrm{total\\ weekly\\ rides}}}$\n",
    "\n",
    "## Let's use a significance level of  $\\alpha=0.05$\n"
   ]
  },
  {
   "cell_type": "code",
   "execution_count": 2,
   "metadata": {},
   "outputs": [],
   "source": [
    "# Read in the data to a pandas dataframe so we can run some EDA\n",
    "df = pd.read_csv(os.getenv(\"PUIDATA\")+\"/201809-citibike-tripdata.csv\")"
   ]
  },
  {
   "cell_type": "code",
   "execution_count": 3,
   "metadata": {},
   "outputs": [
    {
     "data": {
      "text/plain": [
       "Index(['tripduration', 'starttime', 'stoptime', 'start station id',\n",
       "       'start station name', 'start station latitude',\n",
       "       'start station longitude', 'end station id', 'end station name',\n",
       "       'end station latitude', 'end station longitude', 'bikeid', 'usertype',\n",
       "       'birth year', 'gender'],\n",
       "      dtype='object')"
      ]
     },
     "execution_count": 3,
     "metadata": {},
     "output_type": "execute_result"
    }
   ],
   "source": [
    "df.columns"
   ]
  },
  {
   "cell_type": "code",
   "execution_count": 4,
   "metadata": {},
   "outputs": [],
   "source": [
    "df['ride_start'] = pd.to_datetime(df['starttime'])\n",
    "df.drop(['tripduration', 'starttime', 'stoptime', 'start station id', 'start station name', 'start station latitude', 'start station longitude', 'end station id', 'end station name',\n",
    "       'end station latitude', 'end station longitude', 'bikeid', 'usertype',\n",
    "       'birth year'], axis = 1, inplace=True)"
   ]
  },
  {
   "cell_type": "code",
   "execution_count": 26,
   "metadata": {},
   "outputs": [],
   "source": [
    "## get the day of week, monday is 0 sunday is 6\n",
    "df['dow'] = df.ride_start.dt.dayofweek\n",
    "\n",
    "## make a dummy variable that will tell us if it's a weekend night trip or not\n",
    "## friday is 4 and saturday is 5 in our dow (day of week) column\n",
    "df['fri_sat'] = np.where((df['dow'] == 4) | (df['dow'] == 5), 1, 0)\n",
    "df['wkndpm'] = np.where((df['fri_sat'] == 1) & (df.ride_start.dt.hour > 20), 1, 0)"
   ]
  },
  {
   "cell_type": "code",
   "execution_count": 27,
   "metadata": {},
   "outputs": [
    {
     "data": {
      "text/html": [
       "<div>\n",
       "<table border=\"1\" class=\"dataframe\">\n",
       "  <thead>\n",
       "    <tr style=\"text-align: right;\">\n",
       "      <th></th>\n",
       "      <th>gender</th>\n",
       "      <th>ride_start</th>\n",
       "      <th>dow</th>\n",
       "      <th>fri_sat</th>\n",
       "      <th>wkndpm</th>\n",
       "    </tr>\n",
       "  </thead>\n",
       "  <tbody>\n",
       "    <tr>\n",
       "      <th>0</th>\n",
       "      <td>1</td>\n",
       "      <td>2018-09-01 00:00:05.269</td>\n",
       "      <td>5</td>\n",
       "      <td>1</td>\n",
       "      <td>0</td>\n",
       "    </tr>\n",
       "    <tr>\n",
       "      <th>1</th>\n",
       "      <td>0</td>\n",
       "      <td>2018-09-01 00:00:11.281</td>\n",
       "      <td>5</td>\n",
       "      <td>1</td>\n",
       "      <td>0</td>\n",
       "    </tr>\n",
       "    <tr>\n",
       "      <th>2</th>\n",
       "      <td>1</td>\n",
       "      <td>2018-09-01 00:00:20.649</td>\n",
       "      <td>5</td>\n",
       "      <td>1</td>\n",
       "      <td>0</td>\n",
       "    </tr>\n",
       "    <tr>\n",
       "      <th>3</th>\n",
       "      <td>2</td>\n",
       "      <td>2018-09-01 00:00:21.746</td>\n",
       "      <td>5</td>\n",
       "      <td>1</td>\n",
       "      <td>0</td>\n",
       "    </tr>\n",
       "    <tr>\n",
       "      <th>4</th>\n",
       "      <td>1</td>\n",
       "      <td>2018-09-01 00:00:27.315</td>\n",
       "      <td>5</td>\n",
       "      <td>1</td>\n",
       "      <td>0</td>\n",
       "    </tr>\n",
       "  </tbody>\n",
       "</table>\n",
       "</div>"
      ],
      "text/plain": [
       "   gender              ride_start  dow  fri_sat  wkndpm\n",
       "0       1 2018-09-01 00:00:05.269    5        1       0\n",
       "1       0 2018-09-01 00:00:11.281    5        1       0\n",
       "2       1 2018-09-01 00:00:20.649    5        1       0\n",
       "3       2 2018-09-01 00:00:21.746    5        1       0\n",
       "4       1 2018-09-01 00:00:27.315    5        1       0"
      ]
     },
     "execution_count": 27,
     "metadata": {},
     "output_type": "execute_result"
    }
   ],
   "source": [
    "df.head(5)"
   ]
  },
  {
   "cell_type": "code",
   "execution_count": null,
   "metadata": {},
   "outputs": [],
   "source": []
  }
 ],
 "metadata": {
  "kernelspec": {
   "display_name": "PUI2016_Python3",
   "language": "python",
   "name": "pui2016_python3"
  },
  "language_info": {
   "codemirror_mode": {
    "name": "ipython",
    "version": 3
   },
   "file_extension": ".py",
   "mimetype": "text/x-python",
   "name": "python",
   "nbconvert_exporter": "python",
   "pygments_lexer": "ipython3",
   "version": "3.5.4"
  }
 },
 "nbformat": 4,
 "nbformat_minor": 2
}
